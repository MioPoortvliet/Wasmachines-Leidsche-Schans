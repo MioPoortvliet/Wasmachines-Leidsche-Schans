{
 "cells": [
  {
   "cell_type": "code",
   "execution_count": 51,
   "metadata": {},
   "outputs": [],
   "source": [
    "import numpy as np\n",
    "import matplotlib.pyplot as plt\n",
    "import pandas as pd\n",
    "from scipy import signal\n",
    "from scipy import optimize\n",
    "import os\n",
    "import time as timemodule\n",
    "import sys\n",
    "from IPython.display import clear_output"
   ]
  },
  {
   "cell_type": "code",
   "execution_count": 2,
   "metadata": {},
   "outputs": [],
   "source": [
    "data = pd.read_excel('./data/laundry_from_drive_manual_merge.xlsx')\n",
    "data=data.dropna(subset=['Machines free'])\n",
    "data=data.dropna(subset=['Dryers free'])\n",
    "data=data.dropna(subset=['Rain'])\n",
    "data=data.dropna(subset=['Temperature'])"
   ]
  },
  {
   "cell_type": "code",
   "execution_count": 59,
   "metadata": {
    "scrolled": true
   },
   "outputs": [
    {
     "name": "stdout",
     "output_type": "stream",
     "text": [
      "99.9% done.\n",
      "Time elapsed: 34 minutes 20 seconds.\n",
      "Estimated total time: 34 minutes 23 seconds\n",
      "Done! Saving results...\n"
     ]
    },
    {
     "ename": "NameError",
     "evalue": "name 'drying_predicted' is not defined",
     "output_type": "error",
     "traceback": [
      "\u001b[1;31m---------------------------------------------------------------------------\u001b[0m",
      "\u001b[1;31mNameError\u001b[0m                                 Traceback (most recent call last)",
      "\u001b[1;32m<ipython-input-59-f0c2d3ec4856>\u001b[0m in \u001b[0;36m<module>\u001b[1;34m\u001b[0m\n\u001b[0;32m     43\u001b[0m \u001b[1;31m# Omg save it to disk please\u001b[0m\u001b[1;33m\u001b[0m\u001b[1;33m\u001b[0m\u001b[1;33m\u001b[0m\u001b[0m\n\u001b[0;32m     44\u001b[0m \u001b[0mnp\u001b[0m\u001b[1;33m.\u001b[0m\u001b[0msave\u001b[0m\u001b[1;33m(\u001b[0m\u001b[1;34m\"data/washing predicted.npy\"\u001b[0m\u001b[1;33m,\u001b[0m \u001b[0mwashing_predicted\u001b[0m\u001b[1;33m)\u001b[0m\u001b[1;33m\u001b[0m\u001b[1;33m\u001b[0m\u001b[0m\n\u001b[1;32m---> 45\u001b[1;33m \u001b[0mnp\u001b[0m\u001b[1;33m.\u001b[0m\u001b[0msave\u001b[0m\u001b[1;33m(\u001b[0m\u001b[1;34m\"data/drying predicted.npy\"\u001b[0m\u001b[1;33m,\u001b[0m \u001b[0mdrying_predicted\u001b[0m\u001b[1;33m)\u001b[0m\u001b[1;33m\u001b[0m\u001b[1;33m\u001b[0m\u001b[0m\n\u001b[0m\u001b[0;32m     46\u001b[0m \u001b[0mprint\u001b[0m\u001b[1;33m(\u001b[0m\u001b[1;34m\"Saved! Some stats:\"\u001b[0m\u001b[1;33m)\u001b[0m\u001b[1;33m\u001b[0m\u001b[1;33m\u001b[0m\u001b[0m\n\u001b[0;32m     47\u001b[0m \u001b[0mprint\u001b[0m\u001b[1;33m(\u001b[0m\u001b[1;34m\"Saved calculating %d loops\"\u001b[0m\u001b[1;33m%\u001b[0m\u001b[0mempty\u001b[0m\u001b[1;33m)\u001b[0m\u001b[1;33m\u001b[0m\u001b[1;33m\u001b[0m\u001b[0m\n",
      "\u001b[1;31mNameError\u001b[0m: name 'drying_predicted' is not defined"
     ]
    }
   ],
   "source": [
    "timing = [timemodule.perf_counter()]\n",
    "day_list = [\"Monday\", \"Tuesday\", \"Wednesday\", \"Thursday\", \"Friday\", \"Saturday\", \"Sunday\"]\n",
    "time = np.arange(0, 24*60-1, 1).astype(np.int)\n",
    "temperature = np.arange(int(np.min(data[\"Temperature\"])),int(np.max(data[\"Temperature\"])),1)\n",
    "rain = np.arange(int(np.min(data[\"Rain\"])),int(np.max(data[\"Rain\"])),10)\n",
    "\n",
    "time_from_data = (data[\"Hour\"]*60+data[\"Minute\"]).astype(np.int)\n",
    "\n",
    "washing_predicted = np.zeros(shape = (len(day_list), time.size, temperature.size, rain.size))\n",
    "dryers_predicted = np.zeros(shape = (len(day_list), time.size, temperature.size, rain.size))\n",
    "\n",
    "empty = 0\n",
    "\n",
    "for i, d in enumerate(day_list):\n",
    "    mask_d = data[\"Day of the week\"] == d\n",
    "    for j, t in enumerate(time):\n",
    "        if j % 25 == 0:\n",
    "            timing.append(timemodule.perf_counter())\n",
    "            time_est = float(timing[-1]-timing[0])/((24*60*i+t)/(60*24*7))\n",
    "            try:\n",
    "                clear_output(wait=True)\n",
    "                print(\"%0.1f%% done.\\nTime elapsed: %d minutes %d seconds.\\nEstimated total time: %d minutes %d seconds\"%(\n",
    "                             (24*60*i+t)/(60*24*7)*100, \n",
    "                             (timing[-1]-timing[0])/60,\n",
    "                             (timing[-1]-timing[0])%60,\n",
    "                             time_est/60, \n",
    "                             time_est%60\n",
    "                          ))\n",
    "            except:\n",
    "                print(\"%0.1f%% done\"%((24*60*i+t)/(60*24*7)*100))\n",
    "        mask_t = time_from_data == t\n",
    "        for k, T in enumerate(temperature):\n",
    "            mask_T = data[\"Temperature\"] == T\n",
    "            for l, p in enumerate(rain):\n",
    "                mask_p = data[\"Rain\"] == p\n",
    "                washing_predicted[i,j,k,l] = np.nanmean(data[\"Machines free\"][mask_d*mask_t*mask_T*mask_p])\n",
    "                dryers_predicted[i,j,k,l] = np.nanmean(data[\"Dryers free\"][mask_d*mask_t*mask_T*mask_p])\n",
    "\n",
    "print(\"Done! Saving results...\")\n",
    "# Omg save it to disk please\n",
    "np.save(\"data/washing predicted.npy\", washing_predicted)\n",
    "np.save(\"data/drying predicted.npy\", dryers_predicted)\n",
    "np.save(\"temp and rain.npy\",(temperature, rain))\n",
    "print(\"Saved! Some stats:\")\n",
    "print(\"Saved calculating %d loops\"%empty)\n",
    "print(\"There are %d valid datapoints in the set\"%np.count_nonzero(~(np.isnan(washing_predicted)*np.isnan(dryers_predicted))))\n",
    "print(\"My poorly written code executed in %02d minutes %02d seconds. Good thing I just saved it!\"%((timemodule.perf_counter()-timing[0])/60, \n",
    "                                                                      (timemodule.perf_counter()-timing[0])%60))"
   ]
  },
  {
   "cell_type": "markdown",
   "metadata": {},
   "source": [
    "## If you want to manually save, you can below."
   ]
  },
  {
   "cell_type": "code",
   "execution_count": 60,
   "metadata": {},
   "outputs": [],
   "source": [
    "np.save(\"data/washing predicted.npy\", washing_predicted)\n",
    "np.save(\"data/drying predicted.npy\", dryers_predicted)\n",
    "np.save(\"temp and rain.npy\",(temperature, rain))"
   ]
  }
 ],
 "metadata": {
  "kernelspec": {
   "display_name": "Python 3",
   "language": "python",
   "name": "python3"
  },
  "language_info": {
   "codemirror_mode": {
    "name": "ipython",
    "version": 3
   },
   "file_extension": ".py",
   "mimetype": "text/x-python",
   "name": "python",
   "nbconvert_exporter": "python",
   "pygments_lexer": "ipython3",
   "version": "3.7.4"
  }
 },
 "nbformat": 4,
 "nbformat_minor": 2
}
